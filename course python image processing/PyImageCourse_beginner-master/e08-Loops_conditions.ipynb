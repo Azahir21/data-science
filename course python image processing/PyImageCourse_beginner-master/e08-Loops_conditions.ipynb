{
 "cells": [
  {
   "cell_type": "markdown",
   "metadata": {},
   "source": [
    "# 8. Loops and conditions exercises"
   ]
  },
  {
   "cell_type": "markdown",
   "metadata": {},
   "source": [
    "1. Create list of 10 numbers with values spread between 0 and 100"
   ]
  },
  {
   "cell_type": "markdown",
   "metadata": {},
   "source": [
    "2. Create a for loop that goes through the list and prints each number"
   ]
  },
  {
   "cell_type": "markdown",
   "metadata": {},
   "source": [
    "3. In the loop create a variable called ```squared_val``` that is the square of the current value of the list and print that instead of the original value"
   ]
  },
  {
   "cell_type": "markdown",
   "metadata": {},
   "source": [
    "4. Create an empty list before the for loop. In the loop append squared_val to that empy list. Verify now that your array contains indeed those squared values"
   ]
  },
  {
   "cell_type": "markdown",
   "metadata": {},
   "source": [
    "5. Create an ```if``` condition in order to only append square of numbers which are larger than 50"
   ]
  },
  {
   "cell_type": "markdown",
   "metadata": {},
   "source": [
    "6. Create another empty list before the for loop. Add an ```else``` condition to your ```if``` statement and append the values smaller than 50 to that list."
   ]
  },
  {
   "cell_type": "code",
   "execution_count": 1,
   "metadata": {},
   "outputs": [
    {
     "name": "stdout",
     "output_type": "stream",
     "text": [
      "12\n",
      "67\n",
      "43\n",
      "89\n",
      "54\n",
      "28\n",
      "94\n",
      "15\n",
      "72\n",
      "35\n",
      "144\n",
      "4489\n",
      "1849\n",
      "7921\n",
      "2916\n",
      "784\n",
      "8836\n",
      "225\n",
      "5184\n",
      "1225\n",
      "Squared Values: [144, 4489, 1849, 7921, 2916, 784, 8836, 225, 5184, 1225]\n",
      "Squared Values > 50: [4489, 7921, 2916, 8836, 5184]\n",
      "Values <= 50: [12, 43, 28, 15, 35]\n"
     ]
    }
   ],
   "source": [
    "# 8.1. Create a list of 10 numbers with values spread between 0 and 100\n",
    "numbers = [12, 67, 43, 89, 54, 28, 94, 15, 72, 35]\n",
    "\n",
    "# 8.2. Create a for loop that goes through the list and prints each number\n",
    "for num in numbers:\n",
    "    print(num)\n",
    "\n",
    "# 8.3. In the loop, create a variable squared_val that is the square of the current value of the list and print that instead of the original value\n",
    "for num in numbers:\n",
    "    squared_val = num ** 2\n",
    "    print(squared_val)\n",
    "\n",
    "# 8.4. Create an empty list before the for loop. In the loop, append squared_val to that empty list. Verify now that your list contains indeed those squared values\n",
    "squared_values = []\n",
    "for num in numbers:\n",
    "    squared_val = num ** 2\n",
    "    squared_values.append(squared_val)\n",
    "\n",
    "# Verify the squared_values list\n",
    "print(\"Squared Values:\", squared_values)\n",
    "\n",
    "# 8.5. Create an if condition to only append the square of numbers which are larger than 50\n",
    "squared_values_gt_50 = []\n",
    "for num in numbers:\n",
    "    squared_val = num ** 2\n",
    "    if num > 50:\n",
    "        squared_values_gt_50.append(squared_val)\n",
    "\n",
    "# 8.6. Create another empty list before the for loop. Add an else condition to your if statement and append the values smaller than 50 to that list.\n",
    "squared_values_gt_50 = []\n",
    "squared_values_leq_50 = []\n",
    "for num in numbers:\n",
    "    squared_val = num ** 2\n",
    "    if num > 50:\n",
    "        squared_values_gt_50.append(squared_val)\n",
    "    else:\n",
    "        squared_values_leq_50.append(num)\n",
    "\n",
    "# Verify the lists with values greater and less than 50\n",
    "print(\"Squared Values > 50:\", squared_values_gt_50)\n",
    "print(\"Values <= 50:\", squared_values_leq_50)\n"
   ]
  }
 ],
 "metadata": {
  "kernelspec": {
   "display_name": "Python 3 (ipykernel)",
   "language": "python",
   "name": "python3"
  },
  "language_info": {
   "codemirror_mode": {
    "name": "ipython",
    "version": 3
   },
   "file_extension": ".py",
   "mimetype": "text/x-python",
   "name": "python",
   "nbconvert_exporter": "python",
   "pygments_lexer": "ipython3",
   "version": "3.11.0"
  },
  "toc": {
   "base_numbering": 1,
   "nav_menu": {},
   "number_sections": false,
   "sideBar": true,
   "skip_h1_title": false,
   "title_cell": "Table of Contents",
   "title_sidebar": "Contents",
   "toc_cell": false,
   "toc_position": {},
   "toc_section_display": true,
   "toc_window_display": true
  }
 },
 "nbformat": 4,
 "nbformat_minor": 4
}
