{
 "cells": [
  {
   "cell_type": "markdown",
   "metadata": {},
   "source": [
    "# 2. Images as arrays exercises"
   ]
  },
  {
   "cell_type": "markdown",
   "metadata": {},
   "source": [
    "1. Import Numpy"
   ]
  },
  {
   "cell_type": "markdown",
   "metadata": {},
   "source": [
    "2. Create a 6 rows, 4 columns array of 1s called ```my_array```. Using the ```shape``` parameter make sure the size is correct."
   ]
  },
  {
   "cell_type": "markdown",
   "metadata": {},
   "source": [
    "3. Modify the element at row = 3, column = 1 to be 50"
   ]
  },
  {
   "cell_type": "markdown",
   "metadata": {},
   "source": [
    "4. Modify the array by multiplying all its values by 3"
   ]
  },
  {
   "cell_type": "markdown",
   "metadata": {},
   "source": [
    "5. Using Google, find the Numpy function to take the square root and create a new array called ```my_array_root``` by applying it to your current ```my_array```."
   ]
  },
  {
   "cell_type": "markdown",
   "metadata": {},
   "source": [
    "6. Create a new array called ```my_array_sum``` by multiplying ```my_array``` and ```my_array_root```"
   ]
  },
  {
   "cell_type": "markdown",
   "metadata": {},
   "source": [
    "7. Find the maximum value of your array by using either a methods or a function"
   ]
  },
  {
   "cell_type": "markdown",
   "metadata": {},
   "source": [
    "8. Create a boolean array where only places in ```my_array_sum``` which are larger than 100 are ```True```."
   ]
  },
  {
   "cell_type": "markdown",
   "metadata": {},
   "source": [
    "9. Recover all the values in ```my_array_sum``` which are true in the boolean array using logical indexing. What is the shape of the array containing these values?"
   ]
  },
  {
   "cell_type": "code",
   "execution_count": 3,
   "metadata": {},
   "outputs": [
    {
     "name": "stdout",
     "output_type": "stream",
     "text": [
      "[[1. 1. 1. 1.]\n",
      " [1. 1. 1. 1.]\n",
      " [1. 1. 1. 1.]\n",
      " [1. 1. 1. 1.]\n",
      " [1. 1. 1. 1.]\n",
      " [1. 1. 1. 1.]]\n",
      "Max Value in my_array_sum: 1837.1173070873836\n",
      "Values in my_array_sum greater than 100: [1837.11730709]\n",
      "Shape of the values array: (1,)\n"
     ]
    }
   ],
   "source": [
    "# 1. Import Numpy\n",
    "import numpy as np\n",
    "\n",
    "# 2. Create a 6 rows, 4 columns array of 1s called my_array\n",
    "my_array = np.ones((6, 4))\n",
    "\n",
    "# 3. Modify the element at row = 3, column = 1 to be 50\n",
    "my_array[2, 0] = 50  # Note that row and column indices are zero-based\n",
    "\n",
    "# 4. Modify the array by multiplying all its values by 3\n",
    "my_array *= 3\n",
    "\n",
    "# 5. Use the Numpy function to take the square root and create a new array called my_array_root\n",
    "my_array_root = np.sqrt(my_array)\n",
    "\n",
    "# 6. Create a new array called my_array_sum by multiplying my_array and my_array_root\n",
    "my_array_sum = my_array * my_array_root\n",
    "\n",
    "# 7. Find the maximum value of your array using the np.max function\n",
    "max_value = np.max(my_array_sum)\n",
    "\n",
    "# 8. Create a boolean array where only places in my_array_sum which are larger than 100 are True\n",
    "boolean_array = my_array_sum > 100\n",
    "\n",
    "# 9. Recover all the values in my_array_sum which are True in the boolean array using logical indexing\n",
    "values_greater_than_100 = my_array_sum[boolean_array]\n",
    "\n",
    "# The shape of the array containing these values can be determined using the shape attribute\n",
    "shape_of_values = values_greater_than_100.shape\n",
    "\n",
    "print(\"Max Value in my_array_sum:\", max_value)\n",
    "print(\"Values in my_array_sum greater than 100:\", values_greater_than_100)\n",
    "print(\"Shape of the values array:\", shape_of_values)"
   ]
  }
 ],
 "metadata": {
  "kernelspec": {
   "display_name": "Python 3 (ipykernel)",
   "language": "python",
   "name": "python3"
  },
  "language_info": {
   "codemirror_mode": {
    "name": "ipython",
    "version": 3
   },
   "file_extension": ".py",
   "mimetype": "text/x-python",
   "name": "python",
   "nbconvert_exporter": "python",
   "pygments_lexer": "ipython3",
   "version": "3.11.0"
  },
  "toc": {
   "base_numbering": 1,
   "nav_menu": {},
   "number_sections": false,
   "sideBar": true,
   "skip_h1_title": false,
   "title_cell": "Table of Contents",
   "title_sidebar": "Contents",
   "toc_cell": false,
   "toc_position": {},
   "toc_section_display": true,
   "toc_window_display": true
  }
 },
 "nbformat": 4,
 "nbformat_minor": 4
}
